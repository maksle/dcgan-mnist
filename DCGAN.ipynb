{
 "cells": [
  {
   "cell_type": "markdown",
   "metadata": {},
   "source": [
    "# Generative Adversarial Networks in Keras"
   ]
  },
  {
   "cell_type": "code",
   "execution_count": 3,
   "metadata": {},
   "outputs": [
    {
     "name": "stderr",
     "output_type": "stream",
     "text": [
      "Using TensorFlow backend.\n",
      "/home/ubuntu/anaconda3/lib/python3.6/site-packages/sklearn/cross_validation.py:41: DeprecationWarning: This module was deprecated in version 0.18 in favor of the model_selection module into which all the refactored classes and functions are moved. Also note that the interface of the new CV iterators are different from that of this module. This module will be removed in 0.20.\n",
      "  \"This module will be removed in 0.20.\", DeprecationWarning)\n"
     ]
    }
   ],
   "source": [
    "%matplotlib inline\n",
    "import importlib\n",
    "import utils2; importlib.reload(utils2)\n",
    "from utils2 import *\n",
    "\n",
    "from tqdm import tqdm"
   ]
  },
  {
   "cell_type": "code",
   "execution_count": 4,
   "metadata": {},
   "outputs": [
    {
     "data": {
      "text/plain": [
       "(60000, 28, 28)"
      ]
     },
     "execution_count": 4,
     "metadata": {},
     "output_type": "execute_result"
    }
   ],
   "source": [
    "from keras.datasets import mnist\n",
    "(X_train, y_train), (X_test, y_test) = mnist.load_data()\n",
    "X_train.shape"
   ]
  },
  {
   "cell_type": "code",
   "execution_count": 5,
   "metadata": {
    "collapsed": true
   },
   "outputs": [],
   "source": [
    "n = len(X_train)"
   ]
  },
  {
   "cell_type": "code",
   "execution_count": 6,
   "metadata": {
    "collapsed": true
   },
   "outputs": [],
   "source": [
    "X_train = X_train.reshape(n, -1).astype(np.float32)\n",
    "X_test = X_test.reshape(len(X_test), -1).astype(np.float32)"
   ]
  },
  {
   "cell_type": "code",
   "execution_count": 7,
   "metadata": {
    "collapsed": true
   },
   "outputs": [],
   "source": [
    "X_train = X_train - 127.5\n",
    "X_test = X_test - 127.5"
   ]
  },
  {
   "cell_type": "code",
   "execution_count": 8,
   "metadata": {
    "collapsed": true
   },
   "outputs": [],
   "source": [
    "# X_train /= 255.; X_test /= 255.\n",
    "X_train /= 127.5; X_test /= 127.5"
   ]
  },
  {
   "cell_type": "code",
   "execution_count": 14,
   "metadata": {
    "collapsed": true
   },
   "outputs": [],
   "source": [
    "def plot_multi(im, dim=(4,4), figsize=(6,6), **kwargs ):\n",
    "    plt.figure(figsize=figsize)\n",
    "    plt.subplots_adjust(wspace=.03, hspace=.03)\n",
    "    for i,img in enumerate(im):\n",
    "        plt.subplot(*((dim)+(i+1,)))\n",
    "        plt.imshow(img, **kwargs)\n",
    "        plt.axis('off')\n",
    "    return plt\n",
    "    \n",
    "def plot_gen(G, n_ex=16):\n",
    "    dim1 = math.sqrt(n_ex)\n",
    "    return plot_multi(G.predict(noise(n_ex)).reshape(n_ex, 28,28), \n",
    "                      dim=(dim1,dim1), figsize=(dim1,dim1), cmap='gray')"
   ]
  },
  {
   "cell_type": "code",
   "execution_count": 11,
   "metadata": {
    "collapsed": true
   },
   "outputs": [],
   "source": [
    "def noise(bs): return np.random.randn(bs,100)"
   ]
  },
  {
   "cell_type": "code",
   "execution_count": 12,
   "metadata": {
    "collapsed": true
   },
   "outputs": [],
   "source": [
    "def data_D(sz, G):\n",
    "    real_img = X_train[np.random.randint(0,n,size=sz)]\n",
    "    X = np.concatenate((real_img, G.predict(noise(sz))))\n",
    "    return X, [1]*sz + [0]*sz"
   ]
  },
  {
   "cell_type": "code",
   "execution_count": 13,
   "metadata": {
    "collapsed": true
   },
   "outputs": [],
   "source": [
    "def make_trainable(net, val):\n",
    "    net.trainable = val\n",
    "    for l in net.layers: l.trainable = val"
   ]
  },
  {
   "cell_type": "code",
   "execution_count": 16,
   "metadata": {
    "collapsed": true
   },
   "outputs": [],
   "source": [
    "def train(D, G, m, nb_epoch=5000, bs=128):\n",
    "    dl,gl=[],[]\n",
    "    for e in tqdm(range(nb_epoch)):\n",
    "        X,y = data_D(bs//2, G)\n",
    "        dl.append(D.train_on_batch(X,y))\n",
    "        make_trainable(D, False)\n",
    "        gl.append(m.train_on_batch(noise(bs), np.ones([bs])))\n",
    "        make_trainable(D, True)\n",
    "        if (e <= 200 and e % 20 == 0) or (e > 200 and e % 100 == 0):\n",
    "            p = plot_multi(G.predict(noise(100)).reshape(100, 28,28), figsize=(10,10), dim=(10,10), cmap='gray')\n",
    "            p.savefig('../data/results/dcgan/dcgan_mnist_%s.png' % e, bbox_inches='tight')\n",
    "            p.close()\n",
    "    return dl,gl"
   ]
  },
  {
   "cell_type": "code",
   "execution_count": 17,
   "metadata": {
    "collapsed": true
   },
   "outputs": [],
   "source": [
    "X_train = X_train.reshape(n, 28, 28, 1)\n",
    "X_test = X_test.reshape(len(X_test), 28, 28, 1)"
   ]
  },
  {
   "cell_type": "code",
   "execution_count": 19,
   "metadata": {
    "collapsed": true
   },
   "outputs": [],
   "source": [
    "CNN_G = Sequential([\n",
    "    Dense(128*7*7, input_dim=100, \n",
    "          kernel_initializer=initializers.random_normal(stddev=0.01)),\n",
    "    LeakyReLU(.2),\n",
    "    BatchNormalization(),\n",
    "    Reshape((7, 7, 128)),\n",
    "    UpSampling2D(),\n",
    "    Convolution2D(64, (5, 5), padding='same'),\n",
    "    LeakyReLU(.2),\n",
    "    BatchNormalization(),\n",
    "    UpSampling2D(),\n",
    "    Convolution2D(1, (5, 5), padding='same', activation='tanh')\n",
    "])"
   ]
  },
  {
   "cell_type": "code",
   "execution_count": 21,
   "metadata": {
    "collapsed": true
   },
   "outputs": [],
   "source": [
    "CNN_D = Sequential([\n",
    "    Convolution2D(64, (5, 5), strides=(2,2), padding='same', input_shape=(28, 28, 1), \n",
    "                  kernel_initializer=initializers.random_normal(stddev=0.01)),\n",
    "    LeakyReLU(.2),\n",
    "    Dropout(.3),\n",
    "    Convolution2D(128, (5, 5), strides=(2,2), padding='same'),\n",
    "    LeakyReLU(.2),\n",
    "    Dropout(.3),\n",
    "    # GlobalAveragePooling2D(),\n",
    "    Flatten(),\n",
    "    Dense(1, activation='sigmoid')\n",
    "])\n",
    "\n",
    "CNN_D.compile(keras.optimizers.RMSprop(lr=0.0008, clipvalue=1.0, decay=6e-8), \"binary_crossentropy\")"
   ]
  },
  {
   "cell_type": "code",
   "execution_count": 24,
   "metadata": {
    "collapsed": true
   },
   "outputs": [],
   "source": [
    "CNN_m = Sequential([CNN_G, CNN_D])\n",
    "CNN_m.compile(keras.optimizers.RMSprop(lr=0.0004, clipvalue=1.0, decay=3e-8), \"binary_crossentropy\")"
   ]
  },
  {
   "cell_type": "code",
   "execution_count": 25,
   "metadata": {
    "scrolled": true
   },
   "outputs": [
    {
     "name": "stderr",
     "output_type": "stream",
     "text": [
      "100%|██████████| 5000/5000 [13:44<00:00,  6.06it/s]\n"
     ]
    }
   ],
   "source": [
    "dl,gl = train(CNN_D, CNN_G, CNN_m, 5000)"
   ]
  },
  {
   "cell_type": "code",
   "execution_count": 27,
   "metadata": {
    "collapsed": true
   },
   "outputs": [],
   "source": [
    "CNN_G.save_weights('../data/results/dcgan_mnist_generator.h5')\n",
    "CNN_D.save_weights('../data/results/dcgan_mnist_discriminator.h5')"
   ]
  }
 ],
 "metadata": {
  "anaconda-cloud": {},
  "kernelspec": {
   "display_name": "Python 3",
   "language": "python",
   "name": "python3"
  },
  "language_info": {
   "codemirror_mode": {
    "name": "ipython",
    "version": 3
   },
   "file_extension": ".py",
   "mimetype": "text/x-python",
   "name": "python",
   "nbconvert_exporter": "python",
   "pygments_lexer": "ipython3",
   "version": "3.6.2"
  }
 },
 "nbformat": 4,
 "nbformat_minor": 2
}
